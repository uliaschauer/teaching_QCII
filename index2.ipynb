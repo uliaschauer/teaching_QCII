{
 "cells": [
  {
   "cell_type": "code",
   "execution_count": 1,
   "metadata": {
    "scrolled": false
   },
   "outputs": [
    {
     "data": {
      "application/vnd.jupyter.widget-view+json": {
       "model_id": "616b508d80c3451aa546a0eb27fa1ad1",
       "version_major": 2,
       "version_minor": 0
      },
      "text/plain": [
       "Dropdown(description='Molecule:', options=('H2', 'HF', 'O2', 'N2'), value='H2')"
      ]
     },
     "metadata": {},
     "output_type": "display_data"
    },
    {
     "data": {
      "application/vnd.jupyter.widget-view+json": {
       "model_id": "beda21c4654049739f71b7fbd774d508",
       "version_major": 2,
       "version_minor": 0
      },
      "text/plain": [
       "FloatSlider(value=1.0, description='Scale bond: ', max=1.1, min=0.9, step=0.01)"
      ]
     },
     "metadata": {},
     "output_type": "display_data"
    },
    {
     "data": {
      "application/vnd.jupyter.widget-view+json": {
       "model_id": "2ef17e83b94643ab803a2faf118076c0",
       "version_major": 2,
       "version_minor": 0
      },
      "text/plain": [
       "Dropdown(description='Basis set:', options=('STO-3G', '3-21G', '6-31G', '6-31+G', '6-31+G*', '6-311G'), value=…"
      ]
     },
     "metadata": {},
     "output_type": "display_data"
    },
    {
     "data": {
      "application/vnd.jupyter.widget-view+json": {
       "model_id": "f6aa8d1003ae4bf9828b287ff8e8be8b",
       "version_major": 2,
       "version_minor": 0
      },
      "text/plain": [
       "Dropdown(description='Method:', options=('Hartree-Fock', 'MP2', 'FCI', 'CISD', 'CCSD', 'DFT: LDA', 'DFT: BLYP'…"
      ]
     },
     "metadata": {},
     "output_type": "display_data"
    },
    {
     "data": {
      "application/vnd.jupyter.widget-view+json": {
       "model_id": "87e00a97160a45d189566417ee8c3943",
       "version_major": 2,
       "version_minor": 0
      },
      "text/plain": [
       "Checkbox(value=False, description='Show raw output:')"
      ]
     },
     "metadata": {},
     "output_type": "display_data"
    },
    {
     "data": {
      "application/vnd.jupyter.widget-view+json": {
       "model_id": "9b969682c1284d1fbdd351f48deee52f",
       "version_major": 2,
       "version_minor": 0
      },
      "text/plain": [
       "Button(button_style='success', description='Run', icon='check', style=ButtonStyle(), tooltip='Run calculation'…"
      ]
     },
     "metadata": {},
     "output_type": "display_data"
    },
    {
     "data": {
      "application/vnd.jupyter.widget-view+json": {
       "model_id": "1b43866f195f42c9a49c2358f5f63967",
       "version_major": 2,
       "version_minor": 0
      },
      "text/plain": [
       "Button(button_style='warning', description='Clear output', icon='remove', style=ButtonStyle(), tooltip='Clear …"
      ]
     },
     "metadata": {},
     "output_type": "display_data"
    },
    {
     "data": {
      "application/vnd.jupyter.widget-view+json": {
       "model_id": "8d4cba34825b47a3b3910bab943bbae7",
       "version_major": 2,
       "version_minor": 0
      },
      "text/plain": [
       "Output()"
      ]
     },
     "metadata": {},
     "output_type": "display_data"
    }
   ],
   "source": [
    "import ipywidgets as widgets\n",
    "import time\n",
    "from pyscf import gto, scf, mp, fci, ci, cc, dft\n",
    "\n",
    "#create UI elements\n",
    "molecules = widgets.Dropdown(\n",
    "    description = 'Molecule:',\n",
    "    options     = ['H2', 'HF', 'O2', 'N2'],\n",
    "    value       = 'H2'\n",
    ")\n",
    "display(molecules)\n",
    "\n",
    "bond_scale = widgets.FloatSlider(\n",
    "    description = 'Scale bond: ',\n",
    "    value = 1.0,\n",
    "    min = 0.9,\n",
    "    max = 1.1,\n",
    "    step = 0.01,\n",
    "    readout = True,\n",
    "    readout_format = '.2f'\n",
    ")\n",
    "display(bond_scale)\n",
    "\n",
    "basis_sets = widgets.Dropdown(\n",
    "    description = 'Basis set:',\n",
    "    options = ['STO-3G', '3-21G', '6-31G', '6-31+G', '6-31+G*', '6-311G'],\n",
    "    value = 'STO-3G'\n",
    ")\n",
    "display(basis_sets)\n",
    "\n",
    "methods = widgets.Dropdown(\n",
    "    description = 'Method:',\n",
    "    options = ['Hartree-Fock', 'MP2', 'FCI', 'CISD', 'CCSD', 'DFT: LDA', 'DFT: BLYP', 'DFT: B3LYP'],\n",
    "    value = 'Hartree-Fock'\n",
    ")\n",
    "display(methods)\n",
    "\n",
    "raw_output = widgets.Checkbox(\n",
    "    description = 'Show raw output:', \n",
    "    value = False\n",
    ")\n",
    "display(raw_output)\n",
    "\n",
    "run = widgets.Button(\n",
    "    description  = 'Run',\n",
    "    button_style = 'success',\n",
    "    tooltip      = 'Run calculation',\n",
    "    icon         = 'check'\n",
    ")\n",
    "display(run)\n",
    "\n",
    "clear = widgets.Button(\n",
    "    description  = 'Clear output',\n",
    "    button_style = 'warning',\n",
    "    tooltip      = 'Clear output',\n",
    "    icon         = 'remove'\n",
    ")\n",
    "display(clear)\n",
    "\n",
    "output = widgets.Output()\n",
    "display(output)\n",
    "\n",
    "#function to run the actual calculation\n",
    "def run_calculation(b):\n",
    "    \n",
    "    #output what we are going to run\n",
    "    with output:\n",
    "        print(\"{:30s}: {:}\".format('Molecule',             molecules.value))\n",
    "        print(\"{:30s}: {:.2f}\".format('Bond-length scale', bond_scale.value))\n",
    "        print(\"{:30s}: {:}\".format('Basis set',            basis_sets.value))\n",
    "        print(\"{:30s}: {:}\".format('Method',               methods.value))\n",
    "    \n",
    "    #define molecule parameters\n",
    "    bond_lengths = {'H2': 1.4192, 'HF': 0.929, 'O2': 2.2828, 'N2': 2.0787}\n",
    "    geometries = {'H2': 'H 0 0 0; H 0 0 {}'.format(bond_lengths['H2'] * bond_scale.value),\n",
    "                  'HF': 'H 0 0 0; F 0 0 {}'.format(bond_lengths['HF'] * bond_scale.value),\n",
    "                  'O2': 'O 0 0 0; O 0 0 {}'.format(bond_lengths['O2'] * bond_scale.value),\n",
    "                  'N2': 'N 0 0 0; N 0 0 {}'.format(bond_lengths['N2'] * bond_scale.value)}\n",
    "    spins      = {'H2': 0, 'HF': 0, 'O2': 2, 'N2': 0}\n",
    "    \n",
    "    #start a timer\n",
    "    start_time = time.time()\n",
    "    \n",
    "    #build the molecule and set the verbosity level\n",
    "    mol = gto.M(atom    = geometries[molecules.value],\n",
    "                basis   = basis_sets.value,\n",
    "                spin    = spins[molecules.value],\n",
    "                verbose = 0)\n",
    "    if raw_output.value:\n",
    "        mol.verbose = 5\n",
    "    \n",
    "    #output some information on the calculation\n",
    "    with output:\n",
    "        print(\"{:30s}: {:}\".format('Number of atoms',               mol.natm))\n",
    "        print(\"{:30s}: {:}\".format('Number of electrons',           mol.nelectron))\n",
    "        print(\"{:30s}: {:}\".format('Number of gaussian functions',  mol.nbas))\n",
    "        print(\"{:30s}: {:}\".format('Number of gaussian primitives', sum([i[2] for i in mol._bas])))\n",
    "    \n",
    "    #run the specified calculations\n",
    "    if methods.value == 'Hartree-Fock':\n",
    "        hf_calc = scf.HF(mol)\n",
    "        res = hf_calc.scf()\n",
    "        with output:\n",
    "            print('{:30s}: {:.4f} Ha'.format('HF energy', res))\n",
    "    \n",
    "    elif methods.value == 'MP2':\n",
    "        mp2_calc = mp.MP2(scf.HF(mol)).as_scanner()\n",
    "        res = mp2_calc(mol)\n",
    "        with output:\n",
    "            print('{:30s}: {:.4f} Ha'.format('MP2 energy', res))\n",
    "            \n",
    "    elif methods.value == 'FCI':\n",
    "        \n",
    "        if molecules.value != 'H2' and molecules.value != 'HF':\n",
    "            with output:\n",
    "                print(\"Error: FCI is limited to H2 and HF\")\n",
    "                return\n",
    "            \n",
    "        if (basis_sets.value != 'STO-3G' and basis_sets.value != '3-21G' and \n",
    "            basis_sets.value != '6-31G' and basis_sets.value != '6-311G'):\n",
    "            with output:\n",
    "                print(\"Error: FCI is limited to STO-3G, 3-21G and 6-31G basis sets\")\n",
    "                return\n",
    "        \n",
    "        if molecules.value == 'HF' and basis_sets.value == '6-311G':\n",
    "            with output:\n",
    "                print(\"Warning: This calclation can take a while. Please be patient...\")\n",
    "                return\n",
    "        \n",
    "        hf_calc = scf.HF(mol)\n",
    "        hf_calc.kernel()\n",
    "        ci_calc = fci.FCI(mol, hf_calc.mo_coeff)\n",
    "        res = ci_calc.kernel()\n",
    "        with output:\n",
    "            print('{:30s}: {:.4f} Ha'.format('FCI energy', res[0]))\n",
    "            \n",
    "    elif methods.value == 'CISD':\n",
    "        ci_calc = ci.CISD(scf.HF(mol)).as_scanner()\n",
    "        res = ci_calc(mol)\n",
    "        with output:\n",
    "            print('{:30s}: {:.4f} Ha'.format('CISD energy', res))\n",
    "    \n",
    "    elif methods.value == 'CCSD':\n",
    "        cc_calc = cc.CCSD(scf.HF(mol)).as_scanner()\n",
    "        res = cc_calc(mol)\n",
    "        with output:\n",
    "            print('{:30s}: {:.4f} Ha'.format('CCSD energy', res))\n",
    "    \n",
    "    elif methods.value.startswith('DFT:'):\n",
    "        functional = methods.value.split()[1]\n",
    "        dft_calc = dft.KS(mol)\n",
    "        dft_calc.xc = functional\n",
    "        res = dft_calc.kernel()\n",
    "        with output:\n",
    "            print('{:30s}: {:.4f} Ha'.format('{} energy'.format(methods.value), res))\n",
    "        \n",
    "    #measure and output elapsed time \n",
    "    elapsed_time = time.time() - start_time\n",
    "    with output:\n",
    "        print('{:30s}: {:.2f} sec'.format('Elapsed time', elapsed_time))\n",
    "        print('-------------------------------------------------------')\n",
    "\n",
    "#function to clear the output\n",
    "def clear_output(b):\n",
    "    output.clear_output()\n",
    "    \n",
    "#hook up the functions to the buttons\n",
    "run.on_click(run_calculation)\n",
    "clear.on_click(clear_output)"
   ]
  },
  {
   "cell_type": "code",
   "execution_count": null,
   "metadata": {},
   "outputs": [],
   "source": []
  }
 ],
 "metadata": {
  "kernelspec": {
   "display_name": "Python 3",
   "language": "python",
   "name": "python3"
  },
  "language_info": {
   "codemirror_mode": {
    "name": "ipython",
    "version": 3
   },
   "file_extension": ".py",
   "mimetype": "text/x-python",
   "name": "python",
   "nbconvert_exporter": "python",
   "pygments_lexer": "ipython3",
   "version": "3.7.4"
  }
 },
 "nbformat": 4,
 "nbformat_minor": 2
}
